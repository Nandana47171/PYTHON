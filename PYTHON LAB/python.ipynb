{
 "cells": [
  {
   "cell_type": "code",
   "execution_count": 1,
   "id": "6be63eb0-9f63-4d0c-9d30-d5b539b17c47",
   "metadata": {},
   "outputs": [
    {
     "name": "stdout",
     "output_type": "stream",
     "text": [
      "Hello World\n"
     ]
    }
   ],
   "source": [
    "print(\"Hello World\")"
   ]
  },
  {
   "cell_type": "code",
   "execution_count": 2,
   "id": "d778f807-1fe9-48f1-b5ad-0aee1e08b8b0",
   "metadata": {},
   "outputs": [
    {
     "name": "stdout",
     "output_type": "stream",
     "text": [
      "10 5.5 python\n",
      "15.5\n",
      "pythonisfun\n"
     ]
    }
   ],
   "source": [
    "a = 10\n",
    "b = 5.5\n",
    "c = \"python\"\n",
    "print(a,b,c)\n",
    "print(a+b)\n",
    "d = \"isfun\"\n",
    "print(c+d)"
   ]
  },
  {
   "cell_type": "code",
   "execution_count": 3,
   "id": "ae849634-23c1-4d5b-8ca3-5e40cd7c44c4",
   "metadata": {},
   "outputs": [
    {
     "name": "stdin",
     "output_type": "stream",
     "text": [
      "Enter the first number: 2\n",
      "Enter the Second number: 4\n"
     ]
    },
    {
     "name": "stdout",
     "output_type": "stream",
     "text": [
      "add: 6\n",
      "subtraction: -2\n",
      "multiplication: 8\n",
      "division: 0.5\n",
      "floor division: 0\n",
      "modulo: 2\n",
      "exponention: 16\n"
     ]
    }
   ],
   "source": [
    "a =  int(input(\"Enter the first number:\"))\n",
    "b = int(input(\"Enter the Second number:\"))\n",
    "print(\"add:\",a+b)\n",
    "print(\"subtraction:\",a-b)\n",
    "print(\"multiplication:\",a*b)\n",
    "print(\"division:\",a/b)\n",
    "print(\"floor division:\",a//b)\n",
    "print(\"modulo:\",a%b)\n",
    "print(\"exponention:\",a**b)\n"
   ]
  },
  {
   "cell_type": "code",
   "execution_count": 4,
   "id": "7a19a56d-a641-4122-bbab-26e6d27da893",
   "metadata": {},
   "outputs": [
    {
     "name": "stdout",
     "output_type": "stream",
     "text": [
      "You should go outside.\n",
      "No need to carry an umbrella.\n"
     ]
    }
   ],
   "source": [
    "is_sunny = True\n",
    "have_umbrella = False\n",
    "should_go_outside = is_sunny or have_umbrella\n",
    "should_carry_umbrella = not is_sunny\n",
    "\n",
    "if should_go_outside:\n",
    "    print(\"You should go outside.\")\n",
    "else:\n",
    "    print(\"You should stay inside.\")\n",
    "\n",
    "if should_carry_umbrella:\n",
    "    print(\"You should carry an umbrella.\")\n",
    "else:\n",
    "    print(\"No need to carry an umbrella.\")\n"
   ]
  },
  {
   "cell_type": "code",
   "execution_count": 5,
   "id": "da25a33a-ca75-4476-8107-944a26b8f692",
   "metadata": {},
   "outputs": [
    {
     "name": "stdin",
     "output_type": "stream",
     "text": [
      "Enter a string:  Hello World\n"
     ]
    },
    {
     "name": "stdout",
     "output_type": "stream",
     "text": [
      "11\n",
      "hello world\n",
      "HELLO WORLD\n",
      "Hello_World\n"
     ]
    },
    {
     "name": "stdin",
     "output_type": "stream",
     "text": [
      "Enter a sentence:  It is a python code\n",
      "Enter a word to check:  python\n"
     ]
    },
    {
     "name": "stdout",
     "output_type": "stream",
     "text": [
      "\"python\" is in the sentence.\n"
     ]
    }
   ],
   "source": [
    "string = input(\"Enter a string: \")\n",
    "character_count = len(string)\n",
    "print(character_count)\n",
    "print(string.lower())\n",
    "print(string.upper())\n",
    "print(string.replace(\" \", \"_\"))\n",
    "sentence = input(\"Enter a sentence: \")\n",
    "word_to_check = input(\"Enter a word to check: \")\n",
    "if word_to_check.lower() in sentence.lower():\n",
    "    print(f'\"{word_to_check}\" is in the sentence.')\n",
    "else:\n",
    "    print(f'\"{word_to_check}\" is not present in the sentence.')\n"
   ]
  },
  {
   "cell_type": "code",
   "execution_count": 7,
   "id": "c737fcb5-7c17-4c4e-bbb5-bbd4ee2dba62",
   "metadata": {},
   "outputs": [
    {
     "name": "stdin",
     "output_type": "stream",
     "text": [
      "Enter a number: 2\n"
     ]
    },
    {
     "name": "stdout",
     "output_type": "stream",
     "text": [
      "it is a postive number\n"
     ]
    }
   ],
   "source": [
    "number=int(input(\"Enter a number:\"))\n",
    "if number>0:\n",
    "\tprint(\"it is a postive number\")\n",
    "elif number==0:\n",
    "\tprint(\"zero\")\n",
    "else :\n",
    "\tprint(\"it is a negative number\")\n",
    "   "
   ]
  },
  {
   "cell_type": "code",
   "execution_count": 13,
   "id": "2005772c-e913-4193-8da0-0ccfbbcf3c50",
   "metadata": {},
   "outputs": [
    {
     "name": "stdin",
     "output_type": "stream",
     "text": [
      "Enter the mark: 32\n"
     ]
    },
    {
     "name": "stdout",
     "output_type": "stream",
     "text": [
      "Fail\n"
     ]
    }
   ],
   "source": [
    "A = int(input(\"Enter the mark:\"))\n",
    "if A>=90:\n",
    "    print(\"Grade:A\")\n",
    "elif 75<=A<=89 :\n",
    "    print(\"Grade:B\")\n",
    "elif 60<=A<=74 :\n",
    "    print(\"Grade:C\")\n",
    "elif 40<=A<59:\n",
    "    print(\"Grade:D\")\n",
    "else:\n",
    "    print(\"Fail\")"
   ]
  },
  {
   "cell_type": "code",
   "execution_count": 30,
   "id": "e0f45008-3985-476e-a36b-033c9d5c0399",
   "metadata": {},
   "outputs": [
    {
     "name": "stdin",
     "output_type": "stream",
     "text": [
      "enter the first number: 10\n",
      "enter the second number: 2\n",
      "Enter the operator (+,-,*,/): /\n"
     ]
    },
    {
     "name": "stdout",
     "output_type": "stream",
     "text": [
      "divide: 5.0\n"
     ]
    }
   ],
   "source": [
    "a = int(input(\"enter the first number:\"))\n",
    "b = int(input(\"enter the second number:\"))\n",
    "operator = input(\"Enter the operator (+,-,*,/):\")\n",
    "if operator == '+':\n",
    "    \n",
    "    print(\"addition:\",a+b)\n",
    "elif operator == \"-\":\n",
    "    \n",
    "    print(\"sub:\",a-b)\n",
    "elif operator == '*':\n",
    "\n",
    "    print(\"product:\",a*b)\n",
    "elif operator == '/' :\n",
    "    if b!=0:\n",
    "        print(\"divide:\",a/b)\n",
    "    else:\n",
    "        print(\"Error: Division by zero is not allowed.\")\n",
    "else:\n",
    "    print(\"Invalid operator. Please use +, -, *, or /.\")"
   ]
  },
  {
   "cell_type": "code",
   "execution_count": null,
   "id": "d95fb2d6-63d5-4552-b4c4-1331e8806540",
   "metadata": {},
   "outputs": [],
   "source": []
  }
 ],
 "metadata": {
  "kernelspec": {
   "display_name": "Python 3 (ipykernel)",
   "language": "python",
   "name": "python3"
  },
  "language_info": {
   "codemirror_mode": {
    "name": "ipython",
    "version": 3
   },
   "file_extension": ".py",
   "mimetype": "text/x-python",
   "name": "python",
   "nbconvert_exporter": "python",
   "pygments_lexer": "ipython3",
   "version": "3.10.12"
  }
 },
 "nbformat": 4,
 "nbformat_minor": 5
}
